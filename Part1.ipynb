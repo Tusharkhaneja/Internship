{
 "cells": [
  {
   "cell_type": "markdown",
   "id": "42dfd493",
   "metadata": {},
   "source": [
    "# Question 1\n",
    "Write a Python program to replace all occurrences of a space, comma, or dot with a colon."
   ]
  },
  {
   "cell_type": "code",
   "execution_count": 1,
   "id": "b8e86eb4",
   "metadata": {},
   "outputs": [
    {
     "name": "stdout",
     "output_type": "stream",
     "text": [
      "Python:Exercises::PHP:exercises:\n"
     ]
    }
   ],
   "source": [
    "def replace_funct(string):\n",
    "    print(string.replace(' ',':').replace(',',':').replace('.',':'))\n",
    "\n",
    "sample_text = 'Python Exercises, PHP exercises.'\n",
    "replace_funct(sample_text)"
   ]
  },
  {
   "cell_type": "markdown",
   "id": "a8df7ad3",
   "metadata": {},
   "source": [
    "# Question 2\n",
    "Create a dataframe using the dictionary below and remove everything (commas (,), !, XXXX, ;, etc.) from the columns except words.\n",
    "\n",
    "Dictionary- {'SUMMARY' : ['hello, world!', 'XXXXX test', '123four, five:; six...']}\n",
    "Expected output-\n",
    "                    0      hello world\n",
    "                    1             test\n",
    "                    2    four five six\n"
   ]
  },
  {
   "cell_type": "code",
   "execution_count": 2,
   "id": "c46a4834",
   "metadata": {},
   "outputs": [
    {
     "name": "stdout",
     "output_type": "stream",
     "text": [
      "0    hello world\n",
      "1           test\n",
      "2  four five six\n"
     ]
    }
   ],
   "source": [
    "import pandas as pd\n",
    "import re\n",
    "\n",
    "Dictionary = {\n",
    "    'SUMMARY': ['hello, world!', 'XXXXX test', '123four, five:; six...']\n",
    "}\n",
    "\n",
    "# Function to remove unwanted substrings and extract only alphabetic characters\n",
    "def clean_text(text):\n",
    "    # Remove specific unwanted substrings\n",
    "    text = text.replace('XXXXX', '')\n",
    "    # Remove all non-alphabetic characters except spaces\n",
    "    text = re.sub(r'[^A-Za-z\\s]', '', text)\n",
    "    return text\n",
    "\n",
    "cleaned_list = [clean_text(item) for item in Dictionary['SUMMARY']]\n",
    "\n",
    "df = pd.DataFrame(cleaned_list, columns=['Cleaned Text'])\n",
    "\n",
    "print(df.to_string(header=False))\n"
   ]
  },
  {
   "cell_type": "markdown",
   "id": "20c3d5e3",
   "metadata": {},
   "source": [
    "# Question 3\n",
    "Create a function in python to find all words that are at least 4 characters long in a string. The use of the re.compile() method is mandatory."
   ]
  },
  {
   "cell_type": "code",
   "execution_count": 3,
   "id": "cee6a96b",
   "metadata": {},
   "outputs": [
    {
     "name": "stdout",
     "output_type": "stream",
     "text": [
      "['quick', 'brown', 'jumps', 'over', 'lazy']\n"
     ]
    }
   ],
   "source": [
    "import re\n",
    "\n",
    "def find_long_words(text):\n",
    "    pattern = re.compile(r'\\b\\w{4,}\\b')\n",
    "    long_words = pattern.findall(text)\n",
    "    \n",
    "    return long_words\n",
    "\n",
    "text = \"The quick brown fox jumps over the lazy dog, why or why not\"\n",
    "result = find_long_words(text)\n",
    "print(result)\n"
   ]
  },
  {
   "cell_type": "markdown",
   "id": "46e5f5dc",
   "metadata": {},
   "source": [
    "# Question 4\n",
    "Create a function in python to find all three, four, and five character words in a string. The use of the re.compile() method is mandatory."
   ]
  },
  {
   "cell_type": "code",
   "execution_count": 4,
   "id": "1fadcdbb",
   "metadata": {},
   "outputs": [
    {
     "name": "stdout",
     "output_type": "stream",
     "text": [
      "['This', 'text', 'with', 'some', 'words']\n"
     ]
    }
   ],
   "source": [
    "import re\n",
    "\n",
    "def find_words(string):\n",
    "    # Compile the regular expression to match three, four, and five character words\n",
    "    pattern = re.compile(r'\\b\\w{3,5}\\b')\n",
    "    \n",
    "    # Find all matches of the pattern in the string\n",
    "    words = pattern.findall(string)\n",
    "    \n",
    "    return words\n",
    "\n",
    "# Example usage\n",
    "text = \"This is a sample text with some words of various lengths.\"\n",
    "result = find_words(text)\n",
    "print(result)\n"
   ]
  },
  {
   "cell_type": "markdown",
   "id": "4ee89a65",
   "metadata": {},
   "source": [
    "# Question 5\n",
    "Create a function in Python to remove the parenthesis in a list of strings. The use of the re.compile() method is mandatory."
   ]
  },
  {
   "cell_type": "code",
   "execution_count": 5,
   "id": "6de8cbe2",
   "metadata": {},
   "outputs": [
    {
     "name": "stdout",
     "output_type": "stream",
     "text": [
      "['example .com', 'hr@fliprobo .com', 'github .com', 'Hello Data Science World', 'Data Scientist']\n"
     ]
    }
   ],
   "source": [
    "import re\n",
    "\n",
    "def remove_parentheses(strings):\n",
    "    # regular expression to match only the parentheses\n",
    "    pattern = re.compile(r'[()]')\n",
    "\n",
    "    return [pattern.sub('', string) for string in strings]\n",
    "\n",
    "strings = [\"example (.com)\", \"hr@fliprobo (.com)\", \"github (.com)\", \"Hello (Data Science World)\", \"Data (Scientist)\"]\n",
    "cleaned_strings = remove_parentheses(strings)\n",
    "print(cleaned_strings)\n"
   ]
  },
  {
   "cell_type": "markdown",
   "id": "4d1a0515",
   "metadata": {},
   "source": [
    "# Question 6\n",
    "Write a python program to remove the parenthesis area from the text stored in the text file using Regular Expression."
   ]
  },
  {
   "cell_type": "code",
   "execution_count": 6,
   "id": "e680d412",
   "metadata": {},
   "outputs": [
    {
     "name": "stdout",
     "output_type": "stream",
     "text": [
      "['example', 'hr@fliprobo', 'github', 'Hello', 'Data']\n"
     ]
    }
   ],
   "source": [
    "import re\n",
    "\n",
    "sample_text = [\"example (.com)\", \"hr@fliprobo (.com)\", \"github (.com)\", \"Hello (Data Science World)\", \"Data (Scientist)\"]\n",
    "\n",
    "with open('sample_text.txt', 'w') as file:\n",
    "    for line in sample_text:\n",
    "        file.write(line + \"\\n\")\n",
    "\n",
    "def remove_parenthesis(text):\n",
    "    return re.sub(r'\\s*\\(.*?\\)', '', text)\n",
    "\n",
    "cleaned_text = []\n",
    "with open('sample_text.txt', 'r') as file:\n",
    "    for line in file:\n",
    "        cleaned_line = remove_parenthesis(line.strip())\n",
    "        cleaned_text.append(cleaned_line)\n",
    "\n",
    "print(cleaned_text)\n"
   ]
  },
  {
   "cell_type": "markdown",
   "id": "3ef997b3",
   "metadata": {},
   "source": [
    "# Question 7\n",
    "Write a regular expression in Python to split a string into uppercase letters."
   ]
  },
  {
   "cell_type": "code",
   "execution_count": 7,
   "id": "bbbc3c7d",
   "metadata": {},
   "outputs": [
    {
     "name": "stdout",
     "output_type": "stream",
     "text": [
      "['Importance', 'Of', 'Regular', 'Expressions', 'In', 'Python']\n"
     ]
    }
   ],
   "source": [
    "import re\n",
    "\n",
    "text = \"ImportanceOfRegularExpressionsInPython\"\n",
    "\n",
    "split_text = re.findall('[A-Z][^A-Z]*', text)\n",
    "\n",
    "print(split_text)"
   ]
  },
  {
   "cell_type": "markdown",
   "id": "b688b527",
   "metadata": {},
   "source": [
    "# Question 8\n",
    "Create a function in python to insert spaces between words starting with numbers."
   ]
  },
  {
   "cell_type": "code",
   "execution_count": 8,
   "id": "8b95c638",
   "metadata": {},
   "outputs": [],
   "source": [
    "import re\n",
    "\n",
    "def insert_spaces_before_numbers(text):\n",
    "    spaced_text = re.sub(r'(\\d+)', r' \\1', text)\n",
    "    return spaced_text.strip()"
   ]
  },
  {
   "cell_type": "code",
   "execution_count": 9,
   "id": "45a0bc05",
   "metadata": {},
   "outputs": [
    {
     "name": "stdout",
     "output_type": "stream",
     "text": [
      "RegularExpression 1IsAn 2ImportantTopic 3InPython\n"
     ]
    }
   ],
   "source": [
    "text = \"RegularExpression1IsAn2ImportantTopic3InPython\"\n",
    "result = insert_spaces_before_numbers(text)\n",
    "print(result)"
   ]
  },
  {
   "cell_type": "markdown",
   "id": "ff102f65",
   "metadata": {},
   "source": [
    "# Question 9\n",
    "Create a function in python to insert spaces between words starting with capital letters or with numbers."
   ]
  },
  {
   "cell_type": "code",
   "execution_count": 10,
   "id": "2ab82dd6",
   "metadata": {},
   "outputs": [
    {
     "name": "stdout",
     "output_type": "stream",
     "text": [
      "Regular Expression 1 Is An 2 Important Topic 3 In Python\n"
     ]
    }
   ],
   "source": [
    "import re\n",
    "\n",
    "def insert_spaces_before_capitals_and_numbers(text):\n",
    "    # Regular expression to find capital letters or numbers and add space before them\n",
    "    spaced_text = re.sub(r'([A-Z0-9])', r' \\1', text)\n",
    "    return spaced_text.strip()\n",
    "\n",
    "# Sample text\n",
    "text = \"RegularExpression1IsAn2ImportantTopic3InPython\"\n",
    "\n",
    "result = insert_spaces_before_capitals_and_numbers(text)\n",
    "\n",
    "print(result)\n",
    "\n"
   ]
  },
  {
   "cell_type": "markdown",
   "id": "67eb8d3c",
   "metadata": {},
   "source": [
    "# Question 10\n",
    "Use the github link below to read the data and create a dataframe. After creating the dataframe extract the first 6 letters of each country and store in the dataframe under a new column called first_five_letters."
   ]
  },
  {
   "cell_type": "code",
   "execution_count": 11,
   "id": "825d3967",
   "metadata": {},
   "outputs": [
    {
     "name": "stdout",
     "output_type": "stream",
     "text": [
      "         Country first_six_letters\n",
      "0    Switzerland            Switze\n",
      "1        Iceland            Icelan\n",
      "2        Denmark            Denmar\n",
      "3         Norway            Norway\n",
      "4         Canada            Canada\n",
      "..           ...               ...\n",
      "153       Rwanda            Rwanda\n",
      "154        Benin             Benin\n",
      "155        Syria             Syria\n",
      "156      Burundi            Burund\n",
      "157         Togo              Togo\n",
      "\n",
      "[158 rows x 2 columns]\n"
     ]
    }
   ],
   "source": [
    "import pandas as pd\n",
    "\n",
    "# Step 1: Read the data from the GitHub link\n",
    "url = \"https://raw.githubusercontent.com/dsrscientist/DSData/master/happiness_score_dataset.csv\"\n",
    "df = pd.read_csv(url)\n",
    "\n",
    "# Step 2: Extract the first 6 letters of each country\n",
    "df['first_six_letters'] = df['Country'].str[:6]\n",
    "\n",
    "# Step 3: Display the DataFrame with the new column\n",
    "print(df[['Country', 'first_six_letters']])"
   ]
  },
  {
   "cell_type": "markdown",
   "id": "b779d00a",
   "metadata": {},
   "source": [
    "# Question 11\n",
    "Write a Python program to match a string that contains only upper and lowercase letters, numbers, and underscores."
   ]
  },
  {
   "cell_type": "code",
   "execution_count": 12,
   "id": "f892f2a7",
   "metadata": {},
   "outputs": [
    {
     "name": "stdout",
     "output_type": "stream",
     "text": [
      "True\n",
      "False\n"
     ]
    }
   ],
   "source": [
    "import re\n",
    "\n",
    "def is_valid_string(s):\n",
    "    # expression to match a string\n",
    "    pattern = r'^[A-Za-z0-9_]+$'\n",
    "    if re.match(pattern, s):\n",
    "        return True\n",
    "    else:\n",
    "        return False\n",
    "#check\n",
    "print(is_valid_string(\"Valid_String123\"))  # Output: True\n",
    "print(is_valid_string(\"Invalid-String!\"))  # Output: False\n"
   ]
  },
  {
   "cell_type": "markdown",
   "id": "810e9a2e",
   "metadata": {},
   "source": [
    "# Question 12\n",
    "Write a Python program where a string will start with a specific number. "
   ]
  },
  {
   "cell_type": "code",
   "execution_count": 13,
   "id": "ec0ea6d2",
   "metadata": {},
   "outputs": [
    {
     "name": "stdout",
     "output_type": "stream",
     "text": [
      "True\n",
      "False\n",
      "True\n"
     ]
    }
   ],
   "source": [
    "\n",
    "import re\n",
    "\n",
    "def starts_with_number(string, number):\n",
    "    pattern = rf'^{number}'\n",
    "    \n",
    "    if re.match(pattern, string):\n",
    "        return True\n",
    "    else:\n",
    "        return False\n",
    "    \n",
    "# match \n",
    "print(starts_with_number(\"123abc\", 123)) \n",
    "print(starts_with_number(\"456abc\", 123)) \n",
    "print(starts_with_number(\"78test\", 78)) \n",
    "\n"
   ]
  },
  {
   "cell_type": "markdown",
   "id": "16856fbe",
   "metadata": {},
   "source": [
    "# Question 13\n",
    "Write a Python program to remove leading zeros from an IP address"
   ]
  },
  {
   "cell_type": "code",
   "execution_count": 14,
   "id": "8ce85e95",
   "metadata": {},
   "outputs": [
    {
     "name": "stdout",
     "output_type": "stream",
     "text": [
      "192.168.1.1\n",
      "255.24.1.1\n",
      "0.10.10.10\n"
     ]
    }
   ],
   "source": [
    "import re\n",
    "\n",
    "def remove_leading_zeros(ip_address):\n",
    "    # Use regular expression to remove leading zeros from each segment\n",
    "    updated_ip = re.sub(r'\\b0+(\\d)', r'\\1', ip_address)\n",
    "    return updated_ip\n",
    "\n",
    "print(remove_leading_zeros(\"192.168.001.001\"))  # Output: \"192.168.1.1\"\n",
    "print(remove_leading_zeros(\"255.024.01.01\"))    # Output: \"255.24.1.1\"\n",
    "print(remove_leading_zeros(\"000.010.010.010\"))  # Output: \"0.10.10.10\"\n"
   ]
  },
  {
   "cell_type": "markdown",
   "id": "cfa81239",
   "metadata": {},
   "source": [
    "# Question 14\n",
    "Write a regular expression in python to match a date string in the form of Month name followed by day number and year stored in a text file."
   ]
  },
  {
   "cell_type": "code",
   "execution_count": 15,
   "id": "240d8cef",
   "metadata": {},
   "outputs": [
    {
     "name": "stdout",
     "output_type": "stream",
     "text": [
      "[('August', 'th')]\n"
     ]
    }
   ],
   "source": [
    "import re\n",
    "\n",
    "text = \"On August 15th 1947 that India was declared independent from British colonialism, and the reins of control were handed over to the leaders of the Country.\"\n",
    "\n",
    "pattern = r'\\b(January|February|March|April|May|June|July|August|September|October|November|December) \\d{1,2}(st|nd|rd|th)? \\d{4}\\b'\n",
    "\n",
    "dates = re.findall(pattern, text)\n",
    "\n",
    "# Output\n",
    "print(dates)\n"
   ]
  },
  {
   "cell_type": "markdown",
   "id": "0f4bb8ed",
   "metadata": {},
   "source": [
    "# Question 15\n",
    "Write a Python program to search some literals strings in a string. "
   ]
  },
  {
   "cell_type": "code",
   "execution_count": 16,
   "id": "7d2206f9",
   "metadata": {},
   "outputs": [
    {
     "name": "stdout",
     "output_type": "stream",
     "text": [
      "'fox' found in the text.\n",
      "'dog' found in the text.\n",
      "'horse' not found in the text.\n"
     ]
    }
   ],
   "source": [
    "import re\n",
    "\n",
    "text = 'The quick brown fox jumps over the lazy dog.'\n",
    "\n",
    "search_words = ['fox', 'dog', 'horse']\n",
    "\n",
    "for word in search_words:\n",
    "    if re.search(rf'\\b{word}\\b', text):\n",
    "        print(f\"'{word}' found in the text.\")\n",
    "    else:\n",
    "        print(f\"'{word}' not found in the text.\")\n",
    "\n"
   ]
  },
  {
   "cell_type": "markdown",
   "id": "0cba0d24",
   "metadata": {},
   "source": [
    "# Question 16\n",
    "Write a Python program to search a literals string in a string and also find the location within the original string where the pattern occurs"
   ]
  },
  {
   "cell_type": "code",
   "execution_count": 17,
   "id": "1284f477",
   "metadata": {},
   "outputs": [
    {
     "name": "stdout",
     "output_type": "stream",
     "text": [
      "'fox' found at position 16 to 19\n"
     ]
    }
   ],
   "source": [
    "import re\n",
    "\n",
    "text = 'The quick brown fox jumps over the lazy dog.'\n",
    "\n",
    "search_word = 'fox'\n",
    "\n",
    "matches = re.finditer(rf'\\b{search_word}\\b', text)\n",
    "\n",
    "for match in matches:\n",
    "    print(f\"'{match.group()}' found at position {match.start()} to {match.end()}\")"
   ]
  },
  {
   "cell_type": "markdown",
   "id": "df8eb50b",
   "metadata": {},
   "source": [
    "# Question 17\n",
    "Write a Python program to find the substrings within a string."
   ]
  },
  {
   "cell_type": "code",
   "execution_count": 18,
   "id": "4a860588",
   "metadata": {},
   "outputs": [
    {
     "name": "stdout",
     "output_type": "stream",
     "text": [
      "'exercises' found at position 7 to 16\n",
      "'exercises' found at position 22 to 31\n",
      "'exercises' found at position 36 to 45\n"
     ]
    }
   ],
   "source": [
    "import re\n",
    "\n",
    "text = 'Python exercises, PHP exercises, C# exercises'\n",
    "\n",
    "pattern = 'exercises'\n",
    "\n",
    "matches = re.finditer(pattern, text)\n",
    "\n",
    "for match in matches:\n",
    "    print(f\"'{match.group()}' found at position {match.start()} to {match.end()}\")\n",
    "\n"
   ]
  },
  {
   "cell_type": "markdown",
   "id": "b6ba83de",
   "metadata": {},
   "source": [
    "# Question 18\n",
    "Write a Python program to find the occurrence and position of the substrings within a string."
   ]
  },
  {
   "cell_type": "code",
   "execution_count": 19,
   "id": "a68b1961",
   "metadata": {},
   "outputs": [
    {
     "name": "stdout",
     "output_type": "stream",
     "text": [
      "Substring 'exercises' found at position 7 to 16\n",
      "Substring 'exercises' found at position 22 to 31\n",
      "Substring 'exercises' found at position 36 to 45\n"
     ]
    }
   ],
   "source": [
    "def find_substring_occurrences(text, substring):\n",
    "    start = 0\n",
    "    positions = []\n",
    "    \n",
    "    while True:\n",
    "        # Find the index of the substring starting from the current start position\n",
    "        start = text.find(substring, start)\n",
    "        \n",
    "        if start == -1:\n",
    "            break\n",
    "        \n",
    "        positions.append((start, start + len(substring)))\n",
    "        \n",
    "        start += len(substring)\n",
    "    \n",
    "    return positions\n",
    "\n",
    "text = 'Python exercises, PHP exercises, C# exercises'\n",
    "substring = 'exercises'\n",
    "\n",
    "occurrences = find_substring_occurrences(text, substring)\n",
    "\n",
    "for start, end in occurrences:\n",
    "    print(f\"Substring '{substring}' found at position {start} to {end}\")"
   ]
  },
  {
   "cell_type": "markdown",
   "id": "e7f445e7",
   "metadata": {},
   "source": [
    "# Question 19\n",
    "Write a Python program to convert a date of yyyy-mm-dd format to dd-mm-yyyy format."
   ]
  },
  {
   "cell_type": "code",
   "execution_count": 20,
   "id": "886e225c",
   "metadata": {},
   "outputs": [
    {
     "name": "stdout",
     "output_type": "stream",
     "text": [
      "23-08-2024\n"
     ]
    }
   ],
   "source": [
    "from datetime import datetime\n",
    "\n",
    "def convert_date_format(date_str):\n",
    "    input_format = '%Y-%m-%d'\n",
    "    output_format = '%d-%m-%Y'\n",
    "    \n",
    "    date_obj = datetime.strptime(date_str, input_format)\n",
    "    \n",
    "    formatted_date = date_obj.strftime(output_format)\n",
    "    \n",
    "    return formatted_date\n",
    "\n",
    "date_str = '2024-08-23'\n",
    "\n",
    "converted_date = convert_date_format(date_str)\n",
    "\n",
    "print(converted_date)"
   ]
  },
  {
   "cell_type": "markdown",
   "id": "e66b2d29",
   "metadata": {},
   "source": [
    "# Question 20\n",
    "Create a function in python to find all decimal numbers with a precision of 1 or 2 in a string. The use of the re.compile() method is mandatory."
   ]
  },
  {
   "cell_type": "code",
   "execution_count": 22,
   "id": "42d9dc79",
   "metadata": {},
   "outputs": [
    {
     "name": "stdout",
     "output_type": "stream",
     "text": [
      "['01.12', '145.8', '3.01', '27.25', '0.25']\n"
     ]
    }
   ],
   "source": [
    "import re\n",
    "\n",
    "def find_decimal_numbers(text):\n",
    "    # Compile the regular expression pattern\n",
    "    pattern = re.compile(r'\\b\\d+\\.\\d{1,2}\\b')\n",
    "    \n",
    "    # Find all matches in the text\n",
    "    matches = pattern.findall(text)\n",
    "    \n",
    "    return matches\n",
    "\n",
    "text = \"01.12 0132.123 2.31875 145.8 3.01 27.25 0.25\"\n",
    "\n",
    "decimal_numbers = find_decimal_numbers(text)\n",
    "\n",
    "print(decimal_numbers)"
   ]
  },
  {
   "cell_type": "markdown",
   "id": "9185f19e",
   "metadata": {},
   "source": [
    "# Question 21\n",
    "Write a Python program to separate and print the numbers and their position of a given string."
   ]
  },
  {
   "cell_type": "code",
   "execution_count": 23,
   "id": "3c6009b2",
   "metadata": {},
   "outputs": [
    {
     "name": "stdout",
     "output_type": "stream",
     "text": [
      "Number '25.50' found at position 13 to 18\n",
      "Number '10.5' found at position 39 to 43\n",
      "Number '100' found at position 72 to 75\n"
     ]
    }
   ],
   "source": [
    "import re\n",
    "\n",
    "def find_numbers_and_positions(text):\n",
    "    pattern = re.compile(r'\\b\\d+(\\.\\d+)?\\b')\n",
    "    \n",
    "    matches = pattern.finditer(text)\n",
    "    \n",
    "    for match in matches:\n",
    "        number = match.group()\n",
    "        start = match.start()\n",
    "        end = match.end()\n",
    "        print(f\"Number '{number}' found at position {start} to {end}\")\n",
    "\n",
    "text = \"The price is 25.50 and the discount is 10.5% off, but originally it was 100.\"\n",
    "\n",
    "find_numbers_and_positions(text)\n"
   ]
  },
  {
   "cell_type": "markdown",
   "id": "62115593",
   "metadata": {},
   "source": [
    "# Question 22\n",
    "Write a regular expression in python program to extract maximum/largest numeric value from a string."
   ]
  },
  {
   "cell_type": "code",
   "execution_count": 24,
   "id": "250a21d4",
   "metadata": {},
   "outputs": [
    {
     "name": "stdout",
     "output_type": "stream",
     "text": [
      "The maximum numeric value is: 950\n"
     ]
    }
   ],
   "source": [
    "import re\n",
    "\n",
    "def find_max_numeric_value(text):\n",
    "    pattern = re.compile(r'\\b\\d+\\b')\n",
    "    \n",
    "    matches = pattern.findall(text)\n",
    "    \n",
    "    numbers = [int(match) for match in matches]\n",
    "    \n",
    "    if numbers:\n",
    "        max_value = max(numbers)\n",
    "        return max_value\n",
    "    else:\n",
    "        return None\n",
    "\n",
    "text = 'My marks in each semester are: 947, 896, 926, 524, 734, 950, 642'\n",
    "\n",
    "max_value = find_max_numeric_value(text)\n",
    "\n",
    "if max_value is not None:\n",
    "    print(f\"The maximum numeric value is: {max_value}\")\n",
    "else:\n",
    "    print(\"No numeric values found in the text.\")"
   ]
  },
  {
   "cell_type": "markdown",
   "id": "c8df9c1b",
   "metadata": {},
   "source": [
    "# Question 23\n",
    "Create a function in python to insert spaces between words starting with capital letters."
   ]
  },
  {
   "cell_type": "code",
   "execution_count": 25,
   "id": "fef8348c",
   "metadata": {},
   "outputs": [
    {
     "name": "stdout",
     "output_type": "stream",
     "text": [
      "Regular Expression Is An Important Topic In Python\n"
     ]
    }
   ],
   "source": [
    "import re\n",
    "\n",
    "def insert_spaces(text):\n",
    "    pattern = re.compile(r'(?<!^)(?<!^)[A-Z]')\n",
    "    spaced_text = pattern.sub(r' \\g<0>', text)\n",
    "    \n",
    "    return spaced_text\n",
    "\n",
    "text = \"RegularExpressionIsAnImportantTopicInPython\"\n",
    "\n",
    "result = insert_spaces(text)\n",
    "\n",
    "print(result)"
   ]
  },
  {
   "cell_type": "markdown",
   "id": "476b1e15",
   "metadata": {},
   "source": [
    "# Question 24\n",
    "Python regex to find sequences of one upper case letter followed by lower case letters"
   ]
  },
  {
   "cell_type": "code",
   "execution_count": 26,
   "id": "f8b80ada",
   "metadata": {},
   "outputs": [
    {
     "name": "stdout",
     "output_type": "stream",
     "text": [
      "['Here', 'Hello', 'Python', 'Regex', 'Example']\n"
     ]
    }
   ],
   "source": [
    "import re\n",
    "\n",
    "def find_uppercase_lowercase_sequences(text):\n",
    "    pattern = re.compile(r'\\b[A-Z][a-z]+\\b')\n",
    "    matches = pattern.findall(text)\n",
    "    \n",
    "    return matches\n",
    "\n",
    "text = \"Here are some examples: Hello world, Python programming, Regex example, and another Example.\"\n",
    "\n",
    "sequences = find_uppercase_lowercase_sequences(text)\n",
    "print(sequences)\n"
   ]
  },
  {
   "cell_type": "markdown",
   "id": "78423531",
   "metadata": {},
   "source": [
    "# Question 25\n",
    "Write a Python program to remove continuous duplicate words from Sentence using Regular Expression."
   ]
  },
  {
   "cell_type": "code",
   "execution_count": 27,
   "id": "63d37999",
   "metadata": {},
   "outputs": [
    {
     "name": "stdout",
     "output_type": "stream",
     "text": [
      "Hello world\n"
     ]
    }
   ],
   "source": [
    "import re\n",
    "\n",
    "def remove_continuous_duplicates(sentence):\n",
    "    # Compile the regular expression pattern to match continuous duplicate words\n",
    "    pattern = re.compile(r'\\b(\\w+)\\b(?:(?:\\s+\\1)+)', re.IGNORECASE)\n",
    "    \n",
    "    # Use re.sub() to replace continuous duplicates with a single occurrence of the word\n",
    "    result = pattern.sub(r'\\1', sentence)\n",
    "    \n",
    "    return result\n",
    "\n",
    "text = \"Hello hello world world\"\n",
    "\n",
    "cleaned_text = remove_continuous_duplicates(text)\n",
    "\n",
    "print(cleaned_text)"
   ]
  },
  {
   "cell_type": "markdown",
   "id": "cac85b34",
   "metadata": {},
   "source": [
    "# Question 26\n",
    "Write a python program using RegEx to accept string ending with alphanumeric character."
   ]
  },
  {
   "cell_type": "code",
   "execution_count": 28,
   "id": "77761dda",
   "metadata": {},
   "outputs": [
    {
     "name": "stdout",
     "output_type": "stream",
     "text": [
      "'Hello123' ends with an alphanumeric character: True\n",
      "'Python is great!' ends with an alphanumeric character: False\n",
      "'This is a test.' ends with an alphanumeric character: False\n",
      "'EndWithNumber1' ends with an alphanumeric character: True\n",
      "'Just a word' ends with an alphanumeric character: True\n"
     ]
    }
   ],
   "source": [
    "import re\n",
    "\n",
    "def ends_with_alphanumeric(text):\n",
    "    pattern = re.compile(r'[A-Za-z0-9]$')\n",
    "    \n",
    "    if pattern.search(text):\n",
    "        return True\n",
    "    else:\n",
    "        return False\n",
    "\n",
    "# Sample strings\n",
    "texts = [\n",
    "    \"Hello123\",\n",
    "    \"Python is great!\",\n",
    "    \"This is a test.\",\n",
    "    \"EndWithNumber1\",\n",
    "    \"Just a word\"\n",
    "]\n",
    "\n",
    "for text in texts:\n",
    "    result = ends_with_alphanumeric(text)\n",
    "    print(f\"'{text}' ends with an alphanumeric character: {result}\")\n"
   ]
  },
  {
   "cell_type": "markdown",
   "id": "5a343304",
   "metadata": {},
   "source": [
    "# Question 27\n",
    "Write a python program using RegEx to extract the hashtags."
   ]
  },
  {
   "cell_type": "code",
   "execution_count": 29,
   "id": "a3632139",
   "metadata": {},
   "outputs": [
    {
     "name": "stdout",
     "output_type": "stream",
     "text": [
      "['#Doltiwal', '#xyzabc', '#Demonetization']\n"
     ]
    }
   ],
   "source": [
    "import re\n",
    "\n",
    "def extract_hashtags(text):\n",
    "    pattern = re.compile(r'#\\w+')\n",
    "    hashtags = pattern.findall(text)\n",
    "    \n",
    "    return hashtags\n",
    "\n",
    "text = \"\"\"RT @kapil_kausik: #Doltiwal I mean #xyzabc is \"hurt\" by #Demonetization as the same has rendered USELESS <ed><U+00A0><U+00BD><ed><U+00B1><U+0089> \"acquired funds\" No wo\"\"\"\n",
    "\n",
    "hashtags = extract_hashtags(text)\n",
    "\n",
    "print(hashtags)\n"
   ]
  },
  {
   "cell_type": "markdown",
   "id": "3f88f823",
   "metadata": {},
   "source": [
    "# Question 28\n",
    "Write a python program using RegEx to remove <U+..> like symbols"
   ]
  },
  {
   "cell_type": "code",
   "execution_count": 30,
   "id": "a5587504",
   "metadata": {},
   "outputs": [
    {
     "name": "stdout",
     "output_type": "stream",
     "text": [
      "@Jags123456 Bharat band on 28??<ed><ed>Those who  are protesting #demonetization  are all different party leaders\n"
     ]
    }
   ],
   "source": [
    "import re\n",
    "\n",
    "def remove_u_plus_symbols(text):\n",
    "    pattern = re.compile(r'<U\\+[0-9A-Fa-f]{4,}>')\n",
    "    \n",
    "    cleaned_text = pattern.sub('', text)\n",
    "    \n",
    "    return cleaned_text\n",
    "\n",
    "text = \"@Jags123456 Bharat band on 28??<ed><U+00A0><U+00BD><ed><U+00B8><U+0082>Those who  are protesting #demonetization  are all different party leaders\"\n",
    "\n",
    "cleaned_text = remove_u_plus_symbols(text)\n",
    "\n",
    "print(cleaned_text)\n"
   ]
  },
  {
   "cell_type": "markdown",
   "id": "929630ab",
   "metadata": {},
   "source": [
    "# Question 29\n",
    "Write a python program to extract dates from the text stored in the text file."
   ]
  },
  {
   "cell_type": "code",
   "execution_count": 31,
   "id": "7029dd08",
   "metadata": {},
   "outputs": [
    {
     "name": "stdout",
     "output_type": "stream",
     "text": [
      "['12-09-1992', '15-12-1999']\n"
     ]
    }
   ],
   "source": [
    "\n",
    "import re\n",
    "\n",
    "def write_sample_text(file_path):\n",
    "    sample_text = \"Ron was born on 12-09-1992 and he was admitted to school 15-12-1999.\"\n",
    "    \n",
    "    with open(file_path, 'w') as file:\n",
    "        file.write(sample_text)\n",
    "\n",
    "def extract_dates(file_path):\n",
    "    pattern = re.compile(r'\\b\\d{2}-\\d{2}-\\d{4}\\b')\n",
    "    \n",
    "    with open(file_path, 'r') as file:\n",
    "        text = file.read()\n",
    "    \n",
    "    dates = pattern.findall(text)\n",
    "    \n",
    "    return dates\n",
    "\n",
    "file_path = 'sample_text.txt'\n",
    "write_sample_text(file_path)\n",
    "dates = extract_dates(file_path)\n",
    "\n",
    "print(dates)\n",
    "\n"
   ]
  },
  {
   "cell_type": "markdown",
   "id": "72225cef",
   "metadata": {},
   "source": [
    "# Question 30\n",
    "Create a function in python to remove all words from a string of length between 2 and 4."
   ]
  },
  {
   "cell_type": "code",
   "execution_count": 32,
   "id": "09ac11e2",
   "metadata": {},
   "outputs": [
    {
     "name": "stdout",
     "output_type": "stream",
     "text": [
      "following example creates ArrayList a capacity elements. 4 elements added ArrayList ArrayList trimmed accordingly.\n"
     ]
    }
   ],
   "source": [
    "\n",
    "import re\n",
    "\n",
    "def remove_short_words(text):\n",
    "    pattern = re.compile(r'\\b\\w{2,4}\\b')\n",
    "    \n",
    "    result = pattern.sub('', text).strip()\n",
    "    \n",
    "    result = re.sub(r'\\s+', ' ', result)\n",
    "    \n",
    "    return result\n",
    "\n",
    "text = \"The following example creates an ArrayList with a capacity of 50 elements. 4 elements are then added to the ArrayList and the ArrayList is trimmed accordingly.\"\n",
    "\n",
    "cleaned_text = remove_short_words(text)\n",
    "\n",
    "print(cleaned_text)"
   ]
  },
  {
   "cell_type": "code",
   "execution_count": null,
   "id": "b8582089",
   "metadata": {},
   "outputs": [],
   "source": []
  },
  {
   "cell_type": "code",
   "execution_count": null,
   "id": "925ec5e2",
   "metadata": {},
   "outputs": [],
   "source": []
  },
  {
   "cell_type": "code",
   "execution_count": null,
   "id": "c020d0c0",
   "metadata": {},
   "outputs": [],
   "source": []
  },
  {
   "cell_type": "code",
   "execution_count": null,
   "id": "59b466f7",
   "metadata": {},
   "outputs": [],
   "source": []
  },
  {
   "cell_type": "code",
   "execution_count": null,
   "id": "8b43d003",
   "metadata": {},
   "outputs": [],
   "source": []
  },
  {
   "cell_type": "code",
   "execution_count": null,
   "id": "5bce0caf",
   "metadata": {},
   "outputs": [],
   "source": []
  }
 ],
 "metadata": {
  "kernelspec": {
   "display_name": "Python 3 (ipykernel)",
   "language": "python",
   "name": "python3"
  },
  "language_info": {
   "codemirror_mode": {
    "name": "ipython",
    "version": 3
   },
   "file_extension": ".py",
   "mimetype": "text/x-python",
   "name": "python",
   "nbconvert_exporter": "python",
   "pygments_lexer": "ipython3",
   "version": "3.9.12"
  }
 },
 "nbformat": 4,
 "nbformat_minor": 5
}
